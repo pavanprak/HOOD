{
 "cells": [
  {
   "cell_type": "markdown",
   "metadata": {
    "id": "e5hMiPnHngu7"
   },
   "source": [
    "Problem statement : The objective of this notebook is to model stock prices of a new generation stock, Robinhood Markets Inc (HOOD).\n",
    "\n",
    "About the stock : HOOD is listed on Nasdaq on Jul 29th, 2021.\n",
    "\n",
    "Methodology  : Am starting with simple single linear regression model, input here is discreate variable. Then, moved to continuous distributions like normal and log normal distributions. Finally, stock prices are modelled via Monte Carlo Simulation.\n",
    "\n",
    "Model 1: One factor linear regression with regular 1 day returns, Y = α + β*x.\n",
    "To calculate expected value of Y, my model, E(Y) =  α + β* E(x).\n",
    "As HOOD does not have long time series (listed recently), regressor is returns from NASADQ index. Calculated R-squared to measure goodness of the fit.\n",
    "\n",
    "Model 2: One factor linear regression with  1 day  log returns. Popular expected returns models like GBM assume log returns due to properties of logarithms.  Single factor regression model remains same otherwise. To get a view on goodness of fit R^2 is calculated.\n",
    "\n",
    "Model 3: Normal distribution with 1 day regular return.\n",
    "A random variable $Z$ with a standard normal distribution is described by the following p.d.f.\n",
    "\n",
    "$$ p(z) = \\frac{1}{\\sqrt{2\\pi}} e^{-z^2 / 2}. $$\n",
    "\n",
    "It is defined for all real values $z$, from $-\\infty$ to $\\infty$.\n",
    "$$ X = \\mu + \\sigma Z $$$$ $$ is $\\text{Normal}(\\mu, \\sigma)$\n",
    "\n",
    "To test normality, p value is calculated.\n",
    "\n",
    "Model 4: Log normal distribution. Here I have taken 1 day log returns, rest of the model remains same. To test normality, p value is calculated.\n",
    "\n",
    "\n",
    "Model 5: Monte Carlo simulation. If a stock exhibit jumps, fat tails, path dependent payoffs etc analytical methods are not very useful. In such scenarios, natural approach is to use powerful simulation approach.\n",
    "Stock price follows Geometric Brownian motion then,\n",
    "\n",
    "dS/S  =  μ*dt + σ*dw. This model is rerun over large number of trials to get closing price for a future date"
   ]
  },
  {
   "cell_type": "code",
   "execution_count": 1,
   "metadata": {
    "id": "7wo9ra9D3TGg"
   },
   "outputs": [],
   "source": [
    "# importing lib\n",
    "from pandas_datareader import data as pdr\n",
    "import yfinance as yf\n",
    "import numpy as np\n",
    "import pandas as pd\n",
    "import matplotlib.pyplot as plt\n",
    "import seaborn as sns\n",
    "import statsmodels.api as sm\n",
    "import scipy.stats as stats\n"
   ]
  },
  {
   "cell_type": "code",
   "execution_count": 2,
   "metadata": {
    "colab": {
     "base_uri": "https://localhost:8080/"
    },
    "id": "442tU8v8amCO",
    "outputId": "6e8fa96c-46dc-4463-961e-e83eadc0e6cc"
   },
   "outputs": [
    {
     "name": "stdout",
     "output_type": "stream",
     "text": [
      "[*********************100%%**********************]  2 of 2 completed\n"
     ]
    }
   ],
   "source": [
    "# Download data from Yahoo site for Nasdaq composite index and Robinhood Markets Inc and store in a dataframe\n",
    "# start date of 29-Jul-2021 is set as HOOD (symbol of Robinhood Markets Inc on Nasdaq index) was listed on this CoB\n",
    "yf.pdr_override()\n",
    "y_symbols = ['NDX', 'HOOD']\n",
    "from datetime import datetime\n",
    "startdate = datetime(2021,7,29)\n",
    "enddate = datetime(2022,12,31)\n",
    "data = pdr.get_data_yahoo(y_symbols, start=startdate, end=enddate)"
   ]
  },
  {
   "cell_type": "markdown",
   "metadata": {
    "id": "AI7NYGuq6nk3"
   },
   "source": [
    "I.A) Downloading data and display properties of raw data"
   ]
  },
  {
   "cell_type": "code",
   "execution_count": 3,
   "metadata": {
    "colab": {
     "base_uri": "https://localhost:8080/",
     "height": 269
    },
    "id": "-sj-W8rha_zZ",
    "outputId": "9c1709dd-fe8d-4d2e-d7ae-8251abb94e5f"
   },
   "outputs": [
    {
     "data": {
      "text/html": [
       "\n",
       "  <div id=\"df-e88142a8-cdd9-4ebc-bc1a-cd25a557b9e2\" class=\"colab-df-container\">\n",
       "    <div>\n",
       "<style scoped>\n",
       "    .dataframe tbody tr th:only-of-type {\n",
       "        vertical-align: middle;\n",
       "    }\n",
       "\n",
       "    .dataframe tbody tr th {\n",
       "        vertical-align: top;\n",
       "    }\n",
       "\n",
       "    .dataframe thead tr th {\n",
       "        text-align: left;\n",
       "    }\n",
       "\n",
       "    .dataframe thead tr:last-of-type th {\n",
       "        text-align: right;\n",
       "    }\n",
       "</style>\n",
       "<table border=\"1\" class=\"dataframe\">\n",
       "  <thead>\n",
       "    <tr>\n",
       "      <th></th>\n",
       "      <th colspan=\"2\" halign=\"left\">Adj Close</th>\n",
       "      <th colspan=\"2\" halign=\"left\">Close</th>\n",
       "      <th colspan=\"2\" halign=\"left\">High</th>\n",
       "      <th colspan=\"2\" halign=\"left\">Low</th>\n",
       "      <th colspan=\"2\" halign=\"left\">Open</th>\n",
       "      <th colspan=\"2\" halign=\"left\">Volume</th>\n",
       "    </tr>\n",
       "    <tr>\n",
       "      <th></th>\n",
       "      <th>HOOD</th>\n",
       "      <th>NDX</th>\n",
       "      <th>HOOD</th>\n",
       "      <th>NDX</th>\n",
       "      <th>HOOD</th>\n",
       "      <th>NDX</th>\n",
       "      <th>HOOD</th>\n",
       "      <th>NDX</th>\n",
       "      <th>HOOD</th>\n",
       "      <th>NDX</th>\n",
       "      <th>HOOD</th>\n",
       "      <th>NDX</th>\n",
       "    </tr>\n",
       "    <tr>\n",
       "      <th>Date</th>\n",
       "      <th></th>\n",
       "      <th></th>\n",
       "      <th></th>\n",
       "      <th></th>\n",
       "      <th></th>\n",
       "      <th></th>\n",
       "      <th></th>\n",
       "      <th></th>\n",
       "      <th></th>\n",
       "      <th></th>\n",
       "      <th></th>\n",
       "      <th></th>\n",
       "    </tr>\n",
       "  </thead>\n",
       "  <tbody>\n",
       "    <tr>\n",
       "      <th>2021-07-29</th>\n",
       "      <td>34.820000</td>\n",
       "      <td>15048.360352</td>\n",
       "      <td>34.820000</td>\n",
       "      <td>15048.360352</td>\n",
       "      <td>40.25</td>\n",
       "      <td>15048.360352</td>\n",
       "      <td>33.349998</td>\n",
       "      <td>15048.360352</td>\n",
       "      <td>38.000000</td>\n",
       "      <td>15048.360352</td>\n",
       "      <td>102474700</td>\n",
       "      <td>0.0</td>\n",
       "    </tr>\n",
       "    <tr>\n",
       "      <th>2021-07-30</th>\n",
       "      <td>35.150002</td>\n",
       "      <td>14959.900391</td>\n",
       "      <td>35.150002</td>\n",
       "      <td>14959.900391</td>\n",
       "      <td>36.98</td>\n",
       "      <td>14959.900391</td>\n",
       "      <td>33.250000</td>\n",
       "      <td>14959.900391</td>\n",
       "      <td>34.930000</td>\n",
       "      <td>14959.900391</td>\n",
       "      <td>40632200</td>\n",
       "      <td>0.0</td>\n",
       "    </tr>\n",
       "    <tr>\n",
       "      <th>2021-08-02</th>\n",
       "      <td>37.680000</td>\n",
       "      <td>14963.620117</td>\n",
       "      <td>37.680000</td>\n",
       "      <td>14963.620117</td>\n",
       "      <td>37.98</td>\n",
       "      <td>14963.620117</td>\n",
       "      <td>35.299999</td>\n",
       "      <td>14963.620117</td>\n",
       "      <td>35.970001</td>\n",
       "      <td>14963.620117</td>\n",
       "      <td>19948500</td>\n",
       "      <td>0.0</td>\n",
       "    </tr>\n",
       "    <tr>\n",
       "      <th>2021-08-03</th>\n",
       "      <td>46.799999</td>\n",
       "      <td>15061.419922</td>\n",
       "      <td>46.799999</td>\n",
       "      <td>15061.419922</td>\n",
       "      <td>48.59</td>\n",
       "      <td>15061.419922</td>\n",
       "      <td>37.159000</td>\n",
       "      <td>15061.419922</td>\n",
       "      <td>37.910999</td>\n",
       "      <td>15061.419922</td>\n",
       "      <td>93819200</td>\n",
       "      <td>0.0</td>\n",
       "    </tr>\n",
       "    <tr>\n",
       "      <th>2021-08-04</th>\n",
       "      <td>70.389999</td>\n",
       "      <td>15083.389648</td>\n",
       "      <td>70.389999</td>\n",
       "      <td>15083.389648</td>\n",
       "      <td>85.00</td>\n",
       "      <td>15083.389648</td>\n",
       "      <td>54.400002</td>\n",
       "      <td>15083.389648</td>\n",
       "      <td>54.450001</td>\n",
       "      <td>15083.389648</td>\n",
       "      <td>175790500</td>\n",
       "      <td>0.0</td>\n",
       "    </tr>\n",
       "  </tbody>\n",
       "</table>\n",
       "</div>\n",
       "    <div class=\"colab-df-buttons\">\n",
       "\n",
       "  <div class=\"colab-df-container\">\n",
       "    <button class=\"colab-df-convert\" onclick=\"convertToInteractive('df-e88142a8-cdd9-4ebc-bc1a-cd25a557b9e2')\"\n",
       "            title=\"Convert this dataframe to an interactive table.\"\n",
       "            style=\"display:none;\">\n",
       "\n",
       "  <svg xmlns=\"http://www.w3.org/2000/svg\" height=\"24px\" viewBox=\"0 -960 960 960\">\n",
       "    <path d=\"M120-120v-720h720v720H120Zm60-500h600v-160H180v160Zm220 220h160v-160H400v160Zm0 220h160v-160H400v160ZM180-400h160v-160H180v160Zm440 0h160v-160H620v160ZM180-180h160v-160H180v160Zm440 0h160v-160H620v160Z\"/>\n",
       "  </svg>\n",
       "    </button>\n",
       "\n",
       "  <style>\n",
       "    .colab-df-container {\n",
       "      display:flex;\n",
       "      gap: 12px;\n",
       "    }\n",
       "\n",
       "    .colab-df-convert {\n",
       "      background-color: #E8F0FE;\n",
       "      border: none;\n",
       "      border-radius: 50%;\n",
       "      cursor: pointer;\n",
       "      display: none;\n",
       "      fill: #1967D2;\n",
       "      height: 32px;\n",
       "      padding: 0 0 0 0;\n",
       "      width: 32px;\n",
       "    }\n",
       "\n",
       "    .colab-df-convert:hover {\n",
       "      background-color: #E2EBFA;\n",
       "      box-shadow: 0px 1px 2px rgba(60, 64, 67, 0.3), 0px 1px 3px 1px rgba(60, 64, 67, 0.15);\n",
       "      fill: #174EA6;\n",
       "    }\n",
       "\n",
       "    .colab-df-buttons div {\n",
       "      margin-bottom: 4px;\n",
       "    }\n",
       "\n",
       "    [theme=dark] .colab-df-convert {\n",
       "      background-color: #3B4455;\n",
       "      fill: #D2E3FC;\n",
       "    }\n",
       "\n",
       "    [theme=dark] .colab-df-convert:hover {\n",
       "      background-color: #434B5C;\n",
       "      box-shadow: 0px 1px 3px 1px rgba(0, 0, 0, 0.15);\n",
       "      filter: drop-shadow(0px 1px 2px rgba(0, 0, 0, 0.3));\n",
       "      fill: #FFFFFF;\n",
       "    }\n",
       "  </style>\n",
       "\n",
       "    <script>\n",
       "      const buttonEl =\n",
       "        document.querySelector('#df-e88142a8-cdd9-4ebc-bc1a-cd25a557b9e2 button.colab-df-convert');\n",
       "      buttonEl.style.display =\n",
       "        google.colab.kernel.accessAllowed ? 'block' : 'none';\n",
       "\n",
       "      async function convertToInteractive(key) {\n",
       "        const element = document.querySelector('#df-e88142a8-cdd9-4ebc-bc1a-cd25a557b9e2');\n",
       "        const dataTable =\n",
       "          await google.colab.kernel.invokeFunction('convertToInteractive',\n",
       "                                                    [key], {});\n",
       "        if (!dataTable) return;\n",
       "\n",
       "        const docLinkHtml = 'Like what you see? Visit the ' +\n",
       "          '<a target=\"_blank\" href=https://colab.research.google.com/notebooks/data_table.ipynb>data table notebook</a>'\n",
       "          + ' to learn more about interactive tables.';\n",
       "        element.innerHTML = '';\n",
       "        dataTable['output_type'] = 'display_data';\n",
       "        await google.colab.output.renderOutput(dataTable, element);\n",
       "        const docLink = document.createElement('div');\n",
       "        docLink.innerHTML = docLinkHtml;\n",
       "        element.appendChild(docLink);\n",
       "      }\n",
       "    </script>\n",
       "  </div>\n",
       "\n",
       "\n",
       "<div id=\"df-4b8f04d1-a51b-4695-81a4-524e0b704841\">\n",
       "  <button class=\"colab-df-quickchart\" onclick=\"quickchart('df-4b8f04d1-a51b-4695-81a4-524e0b704841')\"\n",
       "            title=\"Suggest charts.\"\n",
       "            style=\"display:none;\">\n",
       "\n",
       "<svg xmlns=\"http://www.w3.org/2000/svg\" height=\"24px\"viewBox=\"0 0 24 24\"\n",
       "     width=\"24px\">\n",
       "    <g>\n",
       "        <path d=\"M19 3H5c-1.1 0-2 .9-2 2v14c0 1.1.9 2 2 2h14c1.1 0 2-.9 2-2V5c0-1.1-.9-2-2-2zM9 17H7v-7h2v7zm4 0h-2V7h2v10zm4 0h-2v-4h2v4z\"/>\n",
       "    </g>\n",
       "</svg>\n",
       "  </button>\n",
       "\n",
       "<style>\n",
       "  .colab-df-quickchart {\n",
       "      --bg-color: #E8F0FE;\n",
       "      --fill-color: #1967D2;\n",
       "      --hover-bg-color: #E2EBFA;\n",
       "      --hover-fill-color: #174EA6;\n",
       "      --disabled-fill-color: #AAA;\n",
       "      --disabled-bg-color: #DDD;\n",
       "  }\n",
       "\n",
       "  [theme=dark] .colab-df-quickchart {\n",
       "      --bg-color: #3B4455;\n",
       "      --fill-color: #D2E3FC;\n",
       "      --hover-bg-color: #434B5C;\n",
       "      --hover-fill-color: #FFFFFF;\n",
       "      --disabled-bg-color: #3B4455;\n",
       "      --disabled-fill-color: #666;\n",
       "  }\n",
       "\n",
       "  .colab-df-quickchart {\n",
       "    background-color: var(--bg-color);\n",
       "    border: none;\n",
       "    border-radius: 50%;\n",
       "    cursor: pointer;\n",
       "    display: none;\n",
       "    fill: var(--fill-color);\n",
       "    height: 32px;\n",
       "    padding: 0;\n",
       "    width: 32px;\n",
       "  }\n",
       "\n",
       "  .colab-df-quickchart:hover {\n",
       "    background-color: var(--hover-bg-color);\n",
       "    box-shadow: 0 1px 2px rgba(60, 64, 67, 0.3), 0 1px 3px 1px rgba(60, 64, 67, 0.15);\n",
       "    fill: var(--button-hover-fill-color);\n",
       "  }\n",
       "\n",
       "  .colab-df-quickchart-complete:disabled,\n",
       "  .colab-df-quickchart-complete:disabled:hover {\n",
       "    background-color: var(--disabled-bg-color);\n",
       "    fill: var(--disabled-fill-color);\n",
       "    box-shadow: none;\n",
       "  }\n",
       "\n",
       "  .colab-df-spinner {\n",
       "    border: 2px solid var(--fill-color);\n",
       "    border-color: transparent;\n",
       "    border-bottom-color: var(--fill-color);\n",
       "    animation:\n",
       "      spin 1s steps(1) infinite;\n",
       "  }\n",
       "\n",
       "  @keyframes spin {\n",
       "    0% {\n",
       "      border-color: transparent;\n",
       "      border-bottom-color: var(--fill-color);\n",
       "      border-left-color: var(--fill-color);\n",
       "    }\n",
       "    20% {\n",
       "      border-color: transparent;\n",
       "      border-left-color: var(--fill-color);\n",
       "      border-top-color: var(--fill-color);\n",
       "    }\n",
       "    30% {\n",
       "      border-color: transparent;\n",
       "      border-left-color: var(--fill-color);\n",
       "      border-top-color: var(--fill-color);\n",
       "      border-right-color: var(--fill-color);\n",
       "    }\n",
       "    40% {\n",
       "      border-color: transparent;\n",
       "      border-right-color: var(--fill-color);\n",
       "      border-top-color: var(--fill-color);\n",
       "    }\n",
       "    60% {\n",
       "      border-color: transparent;\n",
       "      border-right-color: var(--fill-color);\n",
       "    }\n",
       "    80% {\n",
       "      border-color: transparent;\n",
       "      border-right-color: var(--fill-color);\n",
       "      border-bottom-color: var(--fill-color);\n",
       "    }\n",
       "    90% {\n",
       "      border-color: transparent;\n",
       "      border-bottom-color: var(--fill-color);\n",
       "    }\n",
       "  }\n",
       "</style>\n",
       "\n",
       "  <script>\n",
       "    async function quickchart(key) {\n",
       "      const quickchartButtonEl =\n",
       "        document.querySelector('#' + key + ' button');\n",
       "      quickchartButtonEl.disabled = true;  // To prevent multiple clicks.\n",
       "      quickchartButtonEl.classList.add('colab-df-spinner');\n",
       "      try {\n",
       "        const charts = await google.colab.kernel.invokeFunction(\n",
       "            'suggestCharts', [key], {});\n",
       "      } catch (error) {\n",
       "        console.error('Error during call to suggestCharts:', error);\n",
       "      }\n",
       "      quickchartButtonEl.classList.remove('colab-df-spinner');\n",
       "      quickchartButtonEl.classList.add('colab-df-quickchart-complete');\n",
       "    }\n",
       "    (() => {\n",
       "      let quickchartButtonEl =\n",
       "        document.querySelector('#df-4b8f04d1-a51b-4695-81a4-524e0b704841 button');\n",
       "      quickchartButtonEl.style.display =\n",
       "        google.colab.kernel.accessAllowed ? 'block' : 'none';\n",
       "    })();\n",
       "  </script>\n",
       "</div>\n",
       "    </div>\n",
       "  </div>\n"
      ],
      "text/plain": [
       "            Adj Close                    Close                 High  \\\n",
       "                 HOOD           NDX       HOOD           NDX   HOOD   \n",
       "Date                                                                  \n",
       "2021-07-29  34.820000  15048.360352  34.820000  15048.360352  40.25   \n",
       "2021-07-30  35.150002  14959.900391  35.150002  14959.900391  36.98   \n",
       "2021-08-02  37.680000  14963.620117  37.680000  14963.620117  37.98   \n",
       "2021-08-03  46.799999  15061.419922  46.799999  15061.419922  48.59   \n",
       "2021-08-04  70.389999  15083.389648  70.389999  15083.389648  85.00   \n",
       "\n",
       "                                Low                     Open                \\\n",
       "                     NDX       HOOD           NDX       HOOD           NDX   \n",
       "Date                                                                         \n",
       "2021-07-29  15048.360352  33.349998  15048.360352  38.000000  15048.360352   \n",
       "2021-07-30  14959.900391  33.250000  14959.900391  34.930000  14959.900391   \n",
       "2021-08-02  14963.620117  35.299999  14963.620117  35.970001  14963.620117   \n",
       "2021-08-03  15061.419922  37.159000  15061.419922  37.910999  15061.419922   \n",
       "2021-08-04  15083.389648  54.400002  15083.389648  54.450001  15083.389648   \n",
       "\n",
       "               Volume       \n",
       "                 HOOD  NDX  \n",
       "Date                        \n",
       "2021-07-29  102474700  0.0  \n",
       "2021-07-30   40632200  0.0  \n",
       "2021-08-02   19948500  0.0  \n",
       "2021-08-03   93819200  0.0  \n",
       "2021-08-04  175790500  0.0  "
      ]
     },
     "execution_count": 3,
     "metadata": {},
     "output_type": "execute_result"
    }
   ],
   "source": [
    "# Display top 5 rows of the dataframe\n",
    "data.head()"
   ]
  },
  {
   "cell_type": "code",
   "execution_count": 4,
   "metadata": {
    "colab": {
     "base_uri": "https://localhost:8080/"
    },
    "id": "R9MvXTGjcDn6",
    "outputId": "a42618dc-e099-4425-e395-7d98ca23369d"
   },
   "outputs": [
    {
     "data": {
      "text/plain": [
       "(360, 12)"
      ]
     },
     "execution_count": 4,
     "metadata": {},
     "output_type": "execute_result"
    }
   ],
   "source": [
    "# Display number of rows and columns in the dataframe\n",
    "data.shape"
   ]
  },
  {
   "cell_type": "code",
   "execution_count": 5,
   "metadata": {
    "colab": {
     "base_uri": "https://localhost:8080/"
    },
    "id": "4taOc5n6cZOj",
    "outputId": "35216a20-0741-4856-a01b-520d12e72d84"
   },
   "outputs": [
    {
     "name": "stdout",
     "output_type": "stream",
     "text": [
      "<class 'pandas.core.frame.DataFrame'>\n",
      "DatetimeIndex: 360 entries, 2021-07-29 to 2022-12-30\n",
      "Data columns (total 12 columns):\n",
      " #   Column             Non-Null Count  Dtype  \n",
      "---  ------             --------------  -----  \n",
      " 0   (Adj Close, HOOD)  360 non-null    float64\n",
      " 1   (Adj Close, NDX)   341 non-null    float64\n",
      " 2   (Close, HOOD)      360 non-null    float64\n",
      " 3   (Close, NDX)       341 non-null    float64\n",
      " 4   (High, HOOD)       360 non-null    float64\n",
      " 5   (High, NDX)        341 non-null    float64\n",
      " 6   (Low, HOOD)        360 non-null    float64\n",
      " 7   (Low, NDX)         341 non-null    float64\n",
      " 8   (Open, HOOD)       360 non-null    float64\n",
      " 9   (Open, NDX)        341 non-null    float64\n",
      " 10  (Volume, HOOD)     360 non-null    int64  \n",
      " 11  (Volume, NDX)      341 non-null    float64\n",
      "dtypes: float64(11), int64(1)\n",
      "memory usage: 36.6 KB\n"
     ]
    }
   ],
   "source": [
    "# Display  data information\n",
    "data.info()"
   ]
  },
  {
   "cell_type": "code",
   "execution_count": 6,
   "metadata": {
    "colab": {
     "base_uri": "https://localhost:8080/",
     "height": 332
    },
    "id": "FuxHLED-cyXe",
    "outputId": "50898064-0e4e-4377-d47f-4e71706cd902"
   },
   "outputs": [
    {
     "data": {
      "text/html": [
       "\n",
       "  <div id=\"df-9fab3020-773a-4a18-ab9f-24ca857d4cd3\" class=\"colab-df-container\">\n",
       "    <div>\n",
       "<style scoped>\n",
       "    .dataframe tbody tr th:only-of-type {\n",
       "        vertical-align: middle;\n",
       "    }\n",
       "\n",
       "    .dataframe tbody tr th {\n",
       "        vertical-align: top;\n",
       "    }\n",
       "\n",
       "    .dataframe thead tr th {\n",
       "        text-align: left;\n",
       "    }\n",
       "</style>\n",
       "<table border=\"1\" class=\"dataframe\">\n",
       "  <thead>\n",
       "    <tr>\n",
       "      <th></th>\n",
       "      <th colspan=\"2\" halign=\"left\">Adj Close</th>\n",
       "      <th colspan=\"2\" halign=\"left\">Close</th>\n",
       "      <th colspan=\"2\" halign=\"left\">High</th>\n",
       "      <th colspan=\"2\" halign=\"left\">Low</th>\n",
       "      <th colspan=\"2\" halign=\"left\">Open</th>\n",
       "      <th colspan=\"2\" halign=\"left\">Volume</th>\n",
       "    </tr>\n",
       "    <tr>\n",
       "      <th></th>\n",
       "      <th>HOOD</th>\n",
       "      <th>NDX</th>\n",
       "      <th>HOOD</th>\n",
       "      <th>NDX</th>\n",
       "      <th>HOOD</th>\n",
       "      <th>NDX</th>\n",
       "      <th>HOOD</th>\n",
       "      <th>NDX</th>\n",
       "      <th>HOOD</th>\n",
       "      <th>NDX</th>\n",
       "      <th>HOOD</th>\n",
       "      <th>NDX</th>\n",
       "    </tr>\n",
       "  </thead>\n",
       "  <tbody>\n",
       "    <tr>\n",
       "      <th>count</th>\n",
       "      <td>360.000000</td>\n",
       "      <td>341.000000</td>\n",
       "      <td>360.000000</td>\n",
       "      <td>341.000000</td>\n",
       "      <td>360.000000</td>\n",
       "      <td>341.000000</td>\n",
       "      <td>360.000000</td>\n",
       "      <td>341.000000</td>\n",
       "      <td>360.000000</td>\n",
       "      <td>341.000000</td>\n",
       "      <td>3.600000e+02</td>\n",
       "      <td>341.0</td>\n",
       "    </tr>\n",
       "    <tr>\n",
       "      <th>mean</th>\n",
       "      <td>18.562389</td>\n",
       "      <td>13630.712739</td>\n",
       "      <td>18.562389</td>\n",
       "      <td>13630.712739</td>\n",
       "      <td>19.279383</td>\n",
       "      <td>13630.712739</td>\n",
       "      <td>17.970350</td>\n",
       "      <td>13630.712739</td>\n",
       "      <td>18.602872</td>\n",
       "      <td>13630.712739</td>\n",
       "      <td>1.629491e+07</td>\n",
       "      <td>0.0</td>\n",
       "    </tr>\n",
       "    <tr>\n",
       "      <th>std</th>\n",
       "      <td>13.528521</td>\n",
       "      <td>1763.854311</td>\n",
       "      <td>13.528521</td>\n",
       "      <td>1763.854311</td>\n",
       "      <td>14.268772</td>\n",
       "      <td>1763.854311</td>\n",
       "      <td>13.095958</td>\n",
       "      <td>1763.854311</td>\n",
       "      <td>13.568724</td>\n",
       "      <td>1763.854311</td>\n",
       "      <td>1.593962e+07</td>\n",
       "      <td>0.0</td>\n",
       "    </tr>\n",
       "    <tr>\n",
       "      <th>min</th>\n",
       "      <td>6.890000</td>\n",
       "      <td>10679.339844</td>\n",
       "      <td>6.890000</td>\n",
       "      <td>10679.339844</td>\n",
       "      <td>7.140000</td>\n",
       "      <td>10679.339844</td>\n",
       "      <td>6.810000</td>\n",
       "      <td>10679.339844</td>\n",
       "      <td>6.840000</td>\n",
       "      <td>10679.339844</td>\n",
       "      <td>1.823800e+06</td>\n",
       "      <td>0.0</td>\n",
       "    </tr>\n",
       "    <tr>\n",
       "      <th>25%</th>\n",
       "      <td>9.567500</td>\n",
       "      <td>11875.629883</td>\n",
       "      <td>9.567500</td>\n",
       "      <td>11875.629883</td>\n",
       "      <td>9.920000</td>\n",
       "      <td>11875.629883</td>\n",
       "      <td>9.273750</td>\n",
       "      <td>11875.629883</td>\n",
       "      <td>9.590000</td>\n",
       "      <td>11875.629883</td>\n",
       "      <td>7.560925e+06</td>\n",
       "      <td>0.0</td>\n",
       "    </tr>\n",
       "    <tr>\n",
       "      <th>50%</th>\n",
       "      <td>11.380000</td>\n",
       "      <td>13742.200195</td>\n",
       "      <td>11.380000</td>\n",
       "      <td>13742.200195</td>\n",
       "      <td>11.712000</td>\n",
       "      <td>13742.200195</td>\n",
       "      <td>10.995000</td>\n",
       "      <td>13742.200195</td>\n",
       "      <td>11.302500</td>\n",
       "      <td>13742.200195</td>\n",
       "      <td>1.276565e+07</td>\n",
       "      <td>0.0</td>\n",
       "    </tr>\n",
       "    <tr>\n",
       "      <th>75%</th>\n",
       "      <td>22.977499</td>\n",
       "      <td>15146.919922</td>\n",
       "      <td>22.977499</td>\n",
       "      <td>15146.919922</td>\n",
       "      <td>23.820000</td>\n",
       "      <td>15146.919922</td>\n",
       "      <td>21.825000</td>\n",
       "      <td>15146.919922</td>\n",
       "      <td>23.432500</td>\n",
       "      <td>15146.919922</td>\n",
       "      <td>1.934755e+07</td>\n",
       "      <td>0.0</td>\n",
       "    </tr>\n",
       "    <tr>\n",
       "      <th>max</th>\n",
       "      <td>70.389999</td>\n",
       "      <td>16573.339844</td>\n",
       "      <td>70.389999</td>\n",
       "      <td>16573.339844</td>\n",
       "      <td>85.000000</td>\n",
       "      <td>16573.339844</td>\n",
       "      <td>56.000000</td>\n",
       "      <td>16573.339844</td>\n",
       "      <td>62.900002</td>\n",
       "      <td>16573.339844</td>\n",
       "      <td>1.757905e+08</td>\n",
       "      <td>0.0</td>\n",
       "    </tr>\n",
       "  </tbody>\n",
       "</table>\n",
       "</div>\n",
       "    <div class=\"colab-df-buttons\">\n",
       "\n",
       "  <div class=\"colab-df-container\">\n",
       "    <button class=\"colab-df-convert\" onclick=\"convertToInteractive('df-9fab3020-773a-4a18-ab9f-24ca857d4cd3')\"\n",
       "            title=\"Convert this dataframe to an interactive table.\"\n",
       "            style=\"display:none;\">\n",
       "\n",
       "  <svg xmlns=\"http://www.w3.org/2000/svg\" height=\"24px\" viewBox=\"0 -960 960 960\">\n",
       "    <path d=\"M120-120v-720h720v720H120Zm60-500h600v-160H180v160Zm220 220h160v-160H400v160Zm0 220h160v-160H400v160ZM180-400h160v-160H180v160Zm440 0h160v-160H620v160ZM180-180h160v-160H180v160Zm440 0h160v-160H620v160Z\"/>\n",
       "  </svg>\n",
       "    </button>\n",
       "\n",
       "  <style>\n",
       "    .colab-df-container {\n",
       "      display:flex;\n",
       "      gap: 12px;\n",
       "    }\n",
       "\n",
       "    .colab-df-convert {\n",
       "      background-color: #E8F0FE;\n",
       "      border: none;\n",
       "      border-radius: 50%;\n",
       "      cursor: pointer;\n",
       "      display: none;\n",
       "      fill: #1967D2;\n",
       "      height: 32px;\n",
       "      padding: 0 0 0 0;\n",
       "      width: 32px;\n",
       "    }\n",
       "\n",
       "    .colab-df-convert:hover {\n",
       "      background-color: #E2EBFA;\n",
       "      box-shadow: 0px 1px 2px rgba(60, 64, 67, 0.3), 0px 1px 3px 1px rgba(60, 64, 67, 0.15);\n",
       "      fill: #174EA6;\n",
       "    }\n",
       "\n",
       "    .colab-df-buttons div {\n",
       "      margin-bottom: 4px;\n",
       "    }\n",
       "\n",
       "    [theme=dark] .colab-df-convert {\n",
       "      background-color: #3B4455;\n",
       "      fill: #D2E3FC;\n",
       "    }\n",
       "\n",
       "    [theme=dark] .colab-df-convert:hover {\n",
       "      background-color: #434B5C;\n",
       "      box-shadow: 0px 1px 3px 1px rgba(0, 0, 0, 0.15);\n",
       "      filter: drop-shadow(0px 1px 2px rgba(0, 0, 0, 0.3));\n",
       "      fill: #FFFFFF;\n",
       "    }\n",
       "  </style>\n",
       "\n",
       "    <script>\n",
       "      const buttonEl =\n",
       "        document.querySelector('#df-9fab3020-773a-4a18-ab9f-24ca857d4cd3 button.colab-df-convert');\n",
       "      buttonEl.style.display =\n",
       "        google.colab.kernel.accessAllowed ? 'block' : 'none';\n",
       "\n",
       "      async function convertToInteractive(key) {\n",
       "        const element = document.querySelector('#df-9fab3020-773a-4a18-ab9f-24ca857d4cd3');\n",
       "        const dataTable =\n",
       "          await google.colab.kernel.invokeFunction('convertToInteractive',\n",
       "                                                    [key], {});\n",
       "        if (!dataTable) return;\n",
       "\n",
       "        const docLinkHtml = 'Like what you see? Visit the ' +\n",
       "          '<a target=\"_blank\" href=https://colab.research.google.com/notebooks/data_table.ipynb>data table notebook</a>'\n",
       "          + ' to learn more about interactive tables.';\n",
       "        element.innerHTML = '';\n",
       "        dataTable['output_type'] = 'display_data';\n",
       "        await google.colab.output.renderOutput(dataTable, element);\n",
       "        const docLink = document.createElement('div');\n",
       "        docLink.innerHTML = docLinkHtml;\n",
       "        element.appendChild(docLink);\n",
       "      }\n",
       "    </script>\n",
       "  </div>\n",
       "\n",
       "\n",
       "<div id=\"df-1f63b750-5249-4300-9b6b-75462642e194\">\n",
       "  <button class=\"colab-df-quickchart\" onclick=\"quickchart('df-1f63b750-5249-4300-9b6b-75462642e194')\"\n",
       "            title=\"Suggest charts.\"\n",
       "            style=\"display:none;\">\n",
       "\n",
       "<svg xmlns=\"http://www.w3.org/2000/svg\" height=\"24px\"viewBox=\"0 0 24 24\"\n",
       "     width=\"24px\">\n",
       "    <g>\n",
       "        <path d=\"M19 3H5c-1.1 0-2 .9-2 2v14c0 1.1.9 2 2 2h14c1.1 0 2-.9 2-2V5c0-1.1-.9-2-2-2zM9 17H7v-7h2v7zm4 0h-2V7h2v10zm4 0h-2v-4h2v4z\"/>\n",
       "    </g>\n",
       "</svg>\n",
       "  </button>\n",
       "\n",
       "<style>\n",
       "  .colab-df-quickchart {\n",
       "      --bg-color: #E8F0FE;\n",
       "      --fill-color: #1967D2;\n",
       "      --hover-bg-color: #E2EBFA;\n",
       "      --hover-fill-color: #174EA6;\n",
       "      --disabled-fill-color: #AAA;\n",
       "      --disabled-bg-color: #DDD;\n",
       "  }\n",
       "\n",
       "  [theme=dark] .colab-df-quickchart {\n",
       "      --bg-color: #3B4455;\n",
       "      --fill-color: #D2E3FC;\n",
       "      --hover-bg-color: #434B5C;\n",
       "      --hover-fill-color: #FFFFFF;\n",
       "      --disabled-bg-color: #3B4455;\n",
       "      --disabled-fill-color: #666;\n",
       "  }\n",
       "\n",
       "  .colab-df-quickchart {\n",
       "    background-color: var(--bg-color);\n",
       "    border: none;\n",
       "    border-radius: 50%;\n",
       "    cursor: pointer;\n",
       "    display: none;\n",
       "    fill: var(--fill-color);\n",
       "    height: 32px;\n",
       "    padding: 0;\n",
       "    width: 32px;\n",
       "  }\n",
       "\n",
       "  .colab-df-quickchart:hover {\n",
       "    background-color: var(--hover-bg-color);\n",
       "    box-shadow: 0 1px 2px rgba(60, 64, 67, 0.3), 0 1px 3px 1px rgba(60, 64, 67, 0.15);\n",
       "    fill: var(--button-hover-fill-color);\n",
       "  }\n",
       "\n",
       "  .colab-df-quickchart-complete:disabled,\n",
       "  .colab-df-quickchart-complete:disabled:hover {\n",
       "    background-color: var(--disabled-bg-color);\n",
       "    fill: var(--disabled-fill-color);\n",
       "    box-shadow: none;\n",
       "  }\n",
       "\n",
       "  .colab-df-spinner {\n",
       "    border: 2px solid var(--fill-color);\n",
       "    border-color: transparent;\n",
       "    border-bottom-color: var(--fill-color);\n",
       "    animation:\n",
       "      spin 1s steps(1) infinite;\n",
       "  }\n",
       "\n",
       "  @keyframes spin {\n",
       "    0% {\n",
       "      border-color: transparent;\n",
       "      border-bottom-color: var(--fill-color);\n",
       "      border-left-color: var(--fill-color);\n",
       "    }\n",
       "    20% {\n",
       "      border-color: transparent;\n",
       "      border-left-color: var(--fill-color);\n",
       "      border-top-color: var(--fill-color);\n",
       "    }\n",
       "    30% {\n",
       "      border-color: transparent;\n",
       "      border-left-color: var(--fill-color);\n",
       "      border-top-color: var(--fill-color);\n",
       "      border-right-color: var(--fill-color);\n",
       "    }\n",
       "    40% {\n",
       "      border-color: transparent;\n",
       "      border-right-color: var(--fill-color);\n",
       "      border-top-color: var(--fill-color);\n",
       "    }\n",
       "    60% {\n",
       "      border-color: transparent;\n",
       "      border-right-color: var(--fill-color);\n",
       "    }\n",
       "    80% {\n",
       "      border-color: transparent;\n",
       "      border-right-color: var(--fill-color);\n",
       "      border-bottom-color: var(--fill-color);\n",
       "    }\n",
       "    90% {\n",
       "      border-color: transparent;\n",
       "      border-bottom-color: var(--fill-color);\n",
       "    }\n",
       "  }\n",
       "</style>\n",
       "\n",
       "  <script>\n",
       "    async function quickchart(key) {\n",
       "      const quickchartButtonEl =\n",
       "        document.querySelector('#' + key + ' button');\n",
       "      quickchartButtonEl.disabled = true;  // To prevent multiple clicks.\n",
       "      quickchartButtonEl.classList.add('colab-df-spinner');\n",
       "      try {\n",
       "        const charts = await google.colab.kernel.invokeFunction(\n",
       "            'suggestCharts', [key], {});\n",
       "      } catch (error) {\n",
       "        console.error('Error during call to suggestCharts:', error);\n",
       "      }\n",
       "      quickchartButtonEl.classList.remove('colab-df-spinner');\n",
       "      quickchartButtonEl.classList.add('colab-df-quickchart-complete');\n",
       "    }\n",
       "    (() => {\n",
       "      let quickchartButtonEl =\n",
       "        document.querySelector('#df-1f63b750-5249-4300-9b6b-75462642e194 button');\n",
       "      quickchartButtonEl.style.display =\n",
       "        google.colab.kernel.accessAllowed ? 'block' : 'none';\n",
       "    })();\n",
       "  </script>\n",
       "</div>\n",
       "    </div>\n",
       "  </div>\n"
      ],
      "text/plain": [
       "        Adj Close                     Close                      High  \\\n",
       "             HOOD           NDX        HOOD           NDX        HOOD   \n",
       "count  360.000000    341.000000  360.000000    341.000000  360.000000   \n",
       "mean    18.562389  13630.712739   18.562389  13630.712739   19.279383   \n",
       "std     13.528521   1763.854311   13.528521   1763.854311   14.268772   \n",
       "min      6.890000  10679.339844    6.890000  10679.339844    7.140000   \n",
       "25%      9.567500  11875.629883    9.567500  11875.629883    9.920000   \n",
       "50%     11.380000  13742.200195   11.380000  13742.200195   11.712000   \n",
       "75%     22.977499  15146.919922   22.977499  15146.919922   23.820000   \n",
       "max     70.389999  16573.339844   70.389999  16573.339844   85.000000   \n",
       "\n",
       "                            Low                      Open                \\\n",
       "                NDX        HOOD           NDX        HOOD           NDX   \n",
       "count    341.000000  360.000000    341.000000  360.000000    341.000000   \n",
       "mean   13630.712739   17.970350  13630.712739   18.602872  13630.712739   \n",
       "std     1763.854311   13.095958   1763.854311   13.568724   1763.854311   \n",
       "min    10679.339844    6.810000  10679.339844    6.840000  10679.339844   \n",
       "25%    11875.629883    9.273750  11875.629883    9.590000  11875.629883   \n",
       "50%    13742.200195   10.995000  13742.200195   11.302500  13742.200195   \n",
       "75%    15146.919922   21.825000  15146.919922   23.432500  15146.919922   \n",
       "max    16573.339844   56.000000  16573.339844   62.900002  16573.339844   \n",
       "\n",
       "             Volume         \n",
       "               HOOD    NDX  \n",
       "count  3.600000e+02  341.0  \n",
       "mean   1.629491e+07    0.0  \n",
       "std    1.593962e+07    0.0  \n",
       "min    1.823800e+06    0.0  \n",
       "25%    7.560925e+06    0.0  \n",
       "50%    1.276565e+07    0.0  \n",
       "75%    1.934755e+07    0.0  \n",
       "max    1.757905e+08    0.0  "
      ]
     },
     "execution_count": 6,
     "metadata": {},
     "output_type": "execute_result"
    }
   ],
   "source": [
    "# Show basic statistical tools\n",
    "data.describe()"
   ]
  },
  {
   "cell_type": "markdown",
   "metadata": {
    "id": "7fAcXsEes5mM"
   },
   "source": [
    "**Model : Single factor regression model**, **Y = α + β*x**\n",
    "\n",
    "Here, independent variable,(x) is Adj close prices of the index, NDX. Dependent variable is Adj close prices, (y) of stock HOOD.\n",
    "Here, HOOD did not pay any dividends nor there were any corporate actions, hence Close and Adj close columns have same values. However to keep the model generic, I have used column,Adj Close in the model. Also Open, high, low values of Index, NDX  and volume of both regressor and regrese are not used in the single factor regression model.\n"
   ]
  },
  {
   "cell_type": "markdown",
   "metadata": {
    "id": "NiuZNKCG6idz"
   },
   "source": [
    "I. B) Data cleaning"
   ]
  },
  {
   "cell_type": "code",
   "execution_count": 7,
   "metadata": {
    "id": "8vzQKyMTke4a"
   },
   "outputs": [],
   "source": [
    "# Drop columns that are not used in regression model\n",
    "data.drop([('Close','HOOD'),('Close','NDX'),('High','NDX'),('Low','NDX'),('Open','NDX'),('Volume','HOOD'),('Volume', 'NDX')], axis = 1, inplace = True)"
   ]
  },
  {
   "cell_type": "code",
   "execution_count": 8,
   "metadata": {
    "id": "dU3vDHYn1ZqQ"
   },
   "outputs": [],
   "source": [
    "# Renaming the columns just for tidy look and arrange them in required way\n",
    "data.columns = ['Close', 'NDX', 'High','Low','Open']\n",
    "data = data[['NDX', 'Close', 'Open','High','Low']].dropna()\n"
   ]
  },
  {
   "cell_type": "markdown",
   "metadata": {
    "id": "B8N12KCO3zlU"
   },
   "source": [
    "I. C) Performing Exploratory analysis: Visualization of data"
   ]
  },
  {
   "cell_type": "code",
   "execution_count": 9,
   "metadata": {
    "colab": {
     "base_uri": "https://localhost:8080/",
     "height": 332
    },
    "id": "m4UxAzNEkd68",
    "outputId": "edf8cb98-93bc-4e4b-84e8-9539a090bf60"
   },
   "outputs": [
    {
     "data": {
      "image/png": "[encoded data removed]",
      "text/plain": [
       "<Figure size 1600x400 with 4 Axes>"
      ]
     },
     "metadata": {},
     "output_type": "display_data"
    }
   ],
   "source": [
    "sns.pairplot(data, x_vars=['NDX', 'High', 'Low','Open'], y_vars='Close',height=4, aspect=1, kind='scatter')\n",
    "plt.show()"
   ]
  },
  {
   "cell_type": "markdown",
   "metadata": {
    "id": "Ua1d2GwgBGjK"
   },
   "source": [
    "Observation : Regressor and regrease ( as in first plot) do not seem to be following linear relationship"
   ]
  },
  {
   "cell_type": "code",
   "execution_count": 10,
   "metadata": {
    "colab": {
     "base_uri": "https://localhost:8080/",
     "height": 435
    },
    "id": "t34U0gqbi6aZ",
    "outputId": "2cdca05e-7bc2-49f8-8ff9-ed72521cb342"
   },
   "outputs": [
    {
     "data": {
      "image/png": "[encoded data removed]",
      "text/plain": [
       "<Figure size 640x480 with 2 Axes>"
      ]
     },
     "metadata": {},
     "output_type": "display_data"
    }
   ],
   "source": [
    "sns.heatmap(data.corr(), cmap=\"flare\", annot = True)\n",
    "plt.show()"
   ]
  },
  {
   "cell_type": "markdown",
   "metadata": {
    "id": "59hfor-rBeSc"
   },
   "source": [
    "Observation : From above heatmap, we observe a 0.67 corelation between regressor and regrese, which is fairly ok to model"
   ]
  },
  {
   "cell_type": "code",
   "execution_count": 11,
   "metadata": {
    "colab": {
     "base_uri": "https://localhost:8080/",
     "height": 455
    },
    "id": "GaDTKZ-5-0zF",
    "outputId": "0bb1d588-9b1c-4fd6-ec38-ef6dd3f2c443"
   },
   "outputs": [
    {
     "data": {
      "text/html": [
       "\n",
       "  <div id=\"df-90727ff0-c460-433f-9de7-3d9c9ea8c6f6\" class=\"colab-df-container\">\n",
       "    <div>\n",
       "<style scoped>\n",
       "    .dataframe tbody tr th:only-of-type {\n",
       "        vertical-align: middle;\n",
       "    }\n",
       "\n",
       "    .dataframe tbody tr th {\n",
       "        vertical-align: top;\n",
       "    }\n",
       "\n",
       "    .dataframe thead th {\n",
       "        text-align: right;\n",
       "    }\n",
       "</style>\n",
       "<table border=\"1\" class=\"dataframe\">\n",
       "  <thead>\n",
       "    <tr style=\"text-align: right;\">\n",
       "      <th></th>\n",
       "      <th>NDX</th>\n",
       "      <th>Close</th>\n",
       "      <th>Open</th>\n",
       "      <th>High</th>\n",
       "      <th>Low</th>\n",
       "      <th>HOOD Daily Return</th>\n",
       "      <th>NDX Daily Return</th>\n",
       "    </tr>\n",
       "    <tr>\n",
       "      <th>Date</th>\n",
       "      <th></th>\n",
       "      <th></th>\n",
       "      <th></th>\n",
       "      <th></th>\n",
       "      <th></th>\n",
       "      <th></th>\n",
       "      <th></th>\n",
       "    </tr>\n",
       "  </thead>\n",
       "  <tbody>\n",
       "    <tr>\n",
       "      <th>2021-07-30</th>\n",
       "      <td>14959.900391</td>\n",
       "      <td>35.150002</td>\n",
       "      <td>34.930000</td>\n",
       "      <td>36.98</td>\n",
       "      <td>33.250000</td>\n",
       "      <td>0.009477</td>\n",
       "      <td>-0.005878</td>\n",
       "    </tr>\n",
       "    <tr>\n",
       "      <th>2021-08-02</th>\n",
       "      <td>14963.620117</td>\n",
       "      <td>37.680000</td>\n",
       "      <td>35.970001</td>\n",
       "      <td>37.98</td>\n",
       "      <td>35.299999</td>\n",
       "      <td>0.071977</td>\n",
       "      <td>0.000249</td>\n",
       "    </tr>\n",
       "    <tr>\n",
       "      <th>2021-08-03</th>\n",
       "      <td>15061.419922</td>\n",
       "      <td>46.799999</td>\n",
       "      <td>37.910999</td>\n",
       "      <td>48.59</td>\n",
       "      <td>37.159000</td>\n",
       "      <td>0.242038</td>\n",
       "      <td>0.006536</td>\n",
       "    </tr>\n",
       "    <tr>\n",
       "      <th>2021-08-04</th>\n",
       "      <td>15083.389648</td>\n",
       "      <td>70.389999</td>\n",
       "      <td>54.450001</td>\n",
       "      <td>85.00</td>\n",
       "      <td>54.400002</td>\n",
       "      <td>0.504060</td>\n",
       "      <td>0.001459</td>\n",
       "    </tr>\n",
       "    <tr>\n",
       "      <th>2021-08-05</th>\n",
       "      <td>15181.639648</td>\n",
       "      <td>50.970001</td>\n",
       "      <td>62.900002</td>\n",
       "      <td>66.50</td>\n",
       "      <td>50.459999</td>\n",
       "      <td>-0.275891</td>\n",
       "      <td>0.006514</td>\n",
       "    </tr>\n",
       "    <tr>\n",
       "      <th>...</th>\n",
       "      <td>...</td>\n",
       "      <td>...</td>\n",
       "      <td>...</td>\n",
       "      <td>...</td>\n",
       "      <td>...</td>\n",
       "      <td>...</td>\n",
       "      <td>...</td>\n",
       "    </tr>\n",
       "    <tr>\n",
       "      <th>2022-12-23</th>\n",
       "      <td>10985.450195</td>\n",
       "      <td>7.950000</td>\n",
       "      <td>7.990000</td>\n",
       "      <td>8.00</td>\n",
       "      <td>7.760000</td>\n",
       "      <td>-0.005006</td>\n",
       "      <td>0.002675</td>\n",
       "    </tr>\n",
       "    <tr>\n",
       "      <th>2022-12-27</th>\n",
       "      <td>10822.509766</td>\n",
       "      <td>7.700000</td>\n",
       "      <td>7.850000</td>\n",
       "      <td>7.93</td>\n",
       "      <td>7.680000</td>\n",
       "      <td>-0.031447</td>\n",
       "      <td>-0.014832</td>\n",
       "    </tr>\n",
       "    <tr>\n",
       "      <th>2022-12-28</th>\n",
       "      <td>10679.339844</td>\n",
       "      <td>7.700000</td>\n",
       "      <td>7.670000</td>\n",
       "      <td>7.81</td>\n",
       "      <td>7.565000</td>\n",
       "      <td>0.000000</td>\n",
       "      <td>-0.013229</td>\n",
       "    </tr>\n",
       "    <tr>\n",
       "      <th>2022-12-29</th>\n",
       "      <td>10951.049805</td>\n",
       "      <td>8.050000</td>\n",
       "      <td>7.770000</td>\n",
       "      <td>8.15</td>\n",
       "      <td>7.735000</td>\n",
       "      <td>0.045455</td>\n",
       "      <td>0.025443</td>\n",
       "    </tr>\n",
       "    <tr>\n",
       "      <th>2022-12-30</th>\n",
       "      <td>10939.759766</td>\n",
       "      <td>8.140000</td>\n",
       "      <td>7.850000</td>\n",
       "      <td>8.17</td>\n",
       "      <td>7.760000</td>\n",
       "      <td>0.011180</td>\n",
       "      <td>-0.001031</td>\n",
       "    </tr>\n",
       "  </tbody>\n",
       "</table>\n",
       "<p>340 rows × 7 columns</p>\n",
       "</div>\n",
       "    <div class=\"colab-df-buttons\">\n",
       "\n",
       "  <div class=\"colab-df-container\">\n",
       "    <button class=\"colab-df-convert\" onclick=\"convertToInteractive('df-90727ff0-c460-433f-9de7-3d9c9ea8c6f6')\"\n",
       "            title=\"Convert this dataframe to an interactive table.\"\n",
       "            style=\"display:none;\">\n",
       "\n",
       "  <svg xmlns=\"http://www.w3.org/2000/svg\" height=\"24px\" viewBox=\"0 -960 960 960\">\n",
       "    <path d=\"M120-120v-720h720v720H120Zm60-500h600v-160H180v160Zm220 220h160v-160H400v160Zm0 220h160v-160H400v160ZM180-400h160v-160H180v160Zm440 0h160v-160H620v160ZM180-180h160v-160H180v160Zm440 0h160v-160H620v160Z\"/>\n",
       "  </svg>\n",
       "    </button>\n",
       "\n",
       "  <style>\n",
       "    .colab-df-container {\n",
       "      display:flex;\n",
       "      gap: 12px;\n",
       "    }\n",
       "\n",
       "    .colab-df-convert {\n",
       "      background-color: #E8F0FE;\n",
       "      border: none;\n",
       "      border-radius: 50%;\n",
       "      cursor: pointer;\n",
       "      display: none;\n",
       "      fill: #1967D2;\n",
       "      height: 32px;\n",
       "      padding: 0 0 0 0;\n",
       "      width: 32px;\n",
       "    }\n",
       "\n",
       "    .colab-df-convert:hover {\n",
       "      background-color: #E2EBFA;\n",
       "      box-shadow: 0px 1px 2px rgba(60, 64, 67, 0.3), 0px 1px 3px 1px rgba(60, 64, 67, 0.15);\n",
       "      fill: #174EA6;\n",
       "    }\n",
       "\n",
       "    .colab-df-buttons div {\n",
       "      margin-bottom: 4px;\n",
       "    }\n",
       "\n",
       "    [theme=dark] .colab-df-convert {\n",
       "      background-color: #3B4455;\n",
       "      fill: #D2E3FC;\n",
       "    }\n",
       "\n",
       "    [theme=dark] .colab-df-convert:hover {\n",
       "      background-color: #434B5C;\n",
       "      box-shadow: 0px 1px 3px 1px rgba(0, 0, 0, 0.15);\n",
       "      filter: drop-shadow(0px 1px 2px rgba(0, 0, 0, 0.3));\n",
       "      fill: #FFFFFF;\n",
       "    }\n",
       "  </style>\n",
       "\n",
       "    <script>\n",
       "      const buttonEl =\n",
       "        document.querySelector('#df-90727ff0-c460-433f-9de7-3d9c9ea8c6f6 button.colab-df-convert');\n",
       "      buttonEl.style.display =\n",
       "        google.colab.kernel.accessAllowed ? 'block' : 'none';\n",
       "\n",
       "      async function convertToInteractive(key) {\n",
       "        const element = document.querySelector('#df-90727ff0-c460-433f-9de7-3d9c9ea8c6f6');\n",
       "        const dataTable =\n",
       "          await google.colab.kernel.invokeFunction('convertToInteractive',\n",
       "                                                    [key], {});\n",
       "        if (!dataTable) return;\n",
       "\n",
       "        const docLinkHtml = 'Like what you see? Visit the ' +\n",
       "          '<a target=\"_blank\" href=https://colab.research.google.com/notebooks/data_table.ipynb>data table notebook</a>'\n",
       "          + ' to learn more about interactive tables.';\n",
       "        element.innerHTML = '';\n",
       "        dataTable['output_type'] = 'display_data';\n",
       "        await google.colab.output.renderOutput(dataTable, element);\n",
       "        const docLink = document.createElement('div');\n",
       "        docLink.innerHTML = docLinkHtml;\n",
       "        element.appendChild(docLink);\n",
       "      }\n",
       "    </script>\n",
       "  </div>\n",
       "\n",
       "\n",
       "<div id=\"df-606aa621-1601-44dc-b55e-014237a16f33\">\n",
       "  <button class=\"colab-df-quickchart\" onclick=\"quickchart('df-606aa621-1601-44dc-b55e-014237a16f33')\"\n",
       "            title=\"Suggest charts.\"\n",
       "            style=\"display:none;\">\n",
       "\n",
       "<svg xmlns=\"http://www.w3.org/2000/svg\" height=\"24px\"viewBox=\"0 0 24 24\"\n",
       "     width=\"24px\">\n",
       "    <g>\n",
       "        <path d=\"M19 3H5c-1.1 0-2 .9-2 2v14c0 1.1.9 2 2 2h14c1.1 0 2-.9 2-2V5c0-1.1-.9-2-2-2zM9 17H7v-7h2v7zm4 0h-2V7h2v10zm4 0h-2v-4h2v4z\"/>\n",
       "    </g>\n",
       "</svg>\n",
       "  </button>\n",
       "\n",
       "<style>\n",
       "  .colab-df-quickchart {\n",
       "      --bg-color: #E8F0FE;\n",
       "      --fill-color: #1967D2;\n",
       "      --hover-bg-color: #E2EBFA;\n",
       "      --hover-fill-color: #174EA6;\n",
       "      --disabled-fill-color: #AAA;\n",
       "      --disabled-bg-color: #DDD;\n",
       "  }\n",
       "\n",
       "  [theme=dark] .colab-df-quickchart {\n",
       "      --bg-color: #3B4455;\n",
       "      --fill-color: #D2E3FC;\n",
       "      --hover-bg-color: #434B5C;\n",
       "      --hover-fill-color: #FFFFFF;\n",
       "      --disabled-bg-color: #3B4455;\n",
       "      --disabled-fill-color: #666;\n",
       "  }\n",
       "\n",
       "  .colab-df-quickchart {\n",
       "    background-color: var(--bg-color);\n",
       "    border: none;\n",
       "    border-radius: 50%;\n",
       "    cursor: pointer;\n",
       "    display: none;\n",
       "    fill: var(--fill-color);\n",
       "    height: 32px;\n",
       "    padding: 0;\n",
       "    width: 32px;\n",
       "  }\n",
       "\n",
       "  .colab-df-quickchart:hover {\n",
       "    background-color: var(--hover-bg-color);\n",
       "    box-shadow: 0 1px 2px rgba(60, 64, 67, 0.3), 0 1px 3px 1px rgba(60, 64, 67, 0.15);\n",
       "    fill: var(--button-hover-fill-color);\n",
       "  }\n",
       "\n",
       "  .colab-df-quickchart-complete:disabled,\n",
       "  .colab-df-quickchart-complete:disabled:hover {\n",
       "    background-color: var(--disabled-bg-color);\n",
       "    fill: var(--disabled-fill-color);\n",
       "    box-shadow: none;\n",
       "  }\n",
       "\n",
       "  .colab-df-spinner {\n",
       "    border: 2px solid var(--fill-color);\n",
       "    border-color: transparent;\n",
       "    border-bottom-color: var(--fill-color);\n",
       "    animation:\n",
       "      spin 1s steps(1) infinite;\n",
       "  }\n",
       "\n",
       "  @keyframes spin {\n",
       "    0% {\n",
       "      border-color: transparent;\n",
       "      border-bottom-color: var(--fill-color);\n",
       "      border-left-color: var(--fill-color);\n",
       "    }\n",
       "    20% {\n",
       "      border-color: transparent;\n",
       "      border-left-color: var(--fill-color);\n",
       "      border-top-color: var(--fill-color);\n",
       "    }\n",
       "    30% {\n",
       "      border-color: transparent;\n",
       "      border-left-color: var(--fill-color);\n",
       "      border-top-color: var(--fill-color);\n",
       "      border-right-color: var(--fill-color);\n",
       "    }\n",
       "    40% {\n",
       "      border-color: transparent;\n",
       "      border-right-color: var(--fill-color);\n",
       "      border-top-color: var(--fill-color);\n",
       "    }\n",
       "    60% {\n",
       "      border-color: transparent;\n",
       "      border-right-color: var(--fill-color);\n",
       "    }\n",
       "    80% {\n",
       "      border-color: transparent;\n",
       "      border-right-color: var(--fill-color);\n",
       "      border-bottom-color: var(--fill-color);\n",
       "    }\n",
       "    90% {\n",
       "      border-color: transparent;\n",
       "      border-bottom-color: var(--fill-color);\n",
       "    }\n",
       "  }\n",
       "</style>\n",
       "\n",
       "  <script>\n",
       "    async function quickchart(key) {\n",
       "      const quickchartButtonEl =\n",
       "        document.querySelector('#' + key + ' button');\n",
       "      quickchartButtonEl.disabled = true;  // To prevent multiple clicks.\n",
       "      quickchartButtonEl.classList.add('colab-df-spinner');\n",
       "      try {\n",
       "        const charts = await google.colab.kernel.invokeFunction(\n",
       "            'suggestCharts', [key], {});\n",
       "      } catch (error) {\n",
       "        console.error('Error during call to suggestCharts:', error);\n",
       "      }\n",
       "      quickchartButtonEl.classList.remove('colab-df-spinner');\n",
       "      quickchartButtonEl.classList.add('colab-df-quickchart-complete');\n",
       "    }\n",
       "    (() => {\n",
       "      let quickchartButtonEl =\n",
       "        document.querySelector('#df-606aa621-1601-44dc-b55e-014237a16f33 button');\n",
       "      quickchartButtonEl.style.display =\n",
       "        google.colab.kernel.accessAllowed ? 'block' : 'none';\n",
       "    })();\n",
       "  </script>\n",
       "</div>\n",
       "    </div>\n",
       "  </div>\n"
      ],
      "text/plain": [
       "                     NDX      Close       Open   High        Low  \\\n",
       "Date                                                               \n",
       "2021-07-30  14959.900391  35.150002  34.930000  36.98  33.250000   \n",
       "2021-08-02  14963.620117  37.680000  35.970001  37.98  35.299999   \n",
       "2021-08-03  15061.419922  46.799999  37.910999  48.59  37.159000   \n",
       "2021-08-04  15083.389648  70.389999  54.450001  85.00  54.400002   \n",
       "2021-08-05  15181.639648  50.970001  62.900002  66.50  50.459999   \n",
       "...                  ...        ...        ...    ...        ...   \n",
       "2022-12-23  10985.450195   7.950000   7.990000   8.00   7.760000   \n",
       "2022-12-27  10822.509766   7.700000   7.850000   7.93   7.680000   \n",
       "2022-12-28  10679.339844   7.700000   7.670000   7.81   7.565000   \n",
       "2022-12-29  10951.049805   8.050000   7.770000   8.15   7.735000   \n",
       "2022-12-30  10939.759766   8.140000   7.850000   8.17   7.760000   \n",
       "\n",
       "            HOOD Daily Return  NDX Daily Return  \n",
       "Date                                             \n",
       "2021-07-30           0.009477         -0.005878  \n",
       "2021-08-02           0.071977          0.000249  \n",
       "2021-08-03           0.242038          0.006536  \n",
       "2021-08-04           0.504060          0.001459  \n",
       "2021-08-05          -0.275891          0.006514  \n",
       "...                       ...               ...  \n",
       "2022-12-23          -0.005006          0.002675  \n",
       "2022-12-27          -0.031447         -0.014832  \n",
       "2022-12-28           0.000000         -0.013229  \n",
       "2022-12-29           0.045455          0.025443  \n",
       "2022-12-30           0.011180         -0.001031  \n",
       "\n",
       "[340 rows x 7 columns]"
      ]
     },
     "execution_count": 11,
     "metadata": {},
     "output_type": "execute_result"
    }
   ],
   "source": [
    "# calculating daily returns and dropping first row which would have NAN value\n",
    "\n",
    "data['HOOD Daily Return'] = (data['Close'] / data['Close'].shift(1))-1\n",
    "data['NDX Daily Return'] = (data['NDX'] / data['NDX'].shift(1)) -1\n",
    "data.dropna()\n"
   ]
  },
  {
   "cell_type": "markdown",
   "metadata": {
    "id": "lKAqt6718WQY"
   },
   "source": [
    "Building linear regression model"
   ]
  },
  {
   "cell_type": "code",
   "execution_count": 12,
   "metadata": {
    "id": "pw1rSOrsn6KU"
   },
   "outputs": [],
   "source": [
    "X = data['HOOD Daily Return'].dropna()\n",
    "y = data['NDX Daily Return'].dropna()"
   ]
  },
  {
   "cell_type": "code",
   "execution_count": 13,
   "metadata": {
    "id": "Osyr_uCc80PS"
   },
   "outputs": [],
   "source": [
    "from sklearn.model_selection import train_test_split\n",
    "X_train, X_test, y_train, y_test = train_test_split(X, y, train_size = 0.7, test_size = 0.3, random_state = 100)"
   ]
  },
  {
   "cell_type": "code",
   "execution_count": 14,
   "metadata": {
    "colab": {
     "base_uri": "https://localhost:8080/"
    },
    "id": "lIAD1v5j8-GB",
    "outputId": "805b7e8a-f1c8-4503-85ec-17db6fbb15b5"
   },
   "outputs": [
    {
     "data": {
      "text/plain": [
       "Date\n",
       "2021-10-27   -0.104372\n",
       "2022-06-13   -0.099626\n",
       "2022-03-14   -0.116183\n",
       "2022-07-14   -0.014354\n",
       "2022-02-25    0.008688\n",
       "Name: HOOD Daily Return, dtype: float64"
      ]
     },
     "execution_count": 14,
     "metadata": {},
     "output_type": "execute_result"
    }
   ],
   "source": [
    "X_train.head()"
   ]
  },
  {
   "cell_type": "code",
   "execution_count": 15,
   "metadata": {
    "colab": {
     "base_uri": "https://localhost:8080/"
    },
    "id": "Rr4bZ88p9AJX",
    "outputId": "267e3127-e95a-47b7-ae74-add9de4227e2"
   },
   "outputs": [
    {
     "data": {
      "text/plain": [
       "Date\n",
       "2021-10-27    0.002500\n",
       "2022-06-13   -0.079990\n",
       "2022-03-14   -0.040053\n",
       "2022-07-14    0.003399\n",
       "2022-02-25    0.015349\n",
       "Name: NDX Daily Return, dtype: float64"
      ]
     },
     "execution_count": 15,
     "metadata": {},
     "output_type": "execute_result"
    }
   ],
   "source": [
    "y_train.head()"
   ]
  },
  {
   "cell_type": "code",
   "execution_count": 16,
   "metadata": {
    "colab": {
     "base_uri": "https://localhost:8080/"
    },
    "id": "Kk9_LGYg9S1u",
    "outputId": "f689d963-9519-4799-d73b-91d59334135d"
   },
   "outputs": [
    {
     "data": {
      "text/plain": [
       "const                0.000167\n",
       "HOOD Daily Return    0.190815\n",
       "dtype: float64"
      ]
     },
     "execution_count": 16,
     "metadata": {},
     "output_type": "execute_result"
    }
   ],
   "source": [
    "# Intercept of the regression line is added as constant\n",
    "X_train_sm = sm.add_constant(X_train)\n",
    "\n",
    "# Fitting the regression line using Oridary Least Square method\n",
    "lr = sm.OLS(y_train, X_train_sm).fit()\n",
    "\n",
    "# Print the regression params\n",
    "lr.params"
   ]
  },
  {
   "cell_type": "code",
   "execution_count": 17,
   "metadata": {
    "colab": {
     "base_uri": "https://localhost:8080/"
    },
    "id": "WbvysQvUCQI4",
    "outputId": "9c71affe-4e34-4cbb-f8f3-3cf165762878"
   },
   "outputs": [
    {
     "name": "stdout",
     "output_type": "stream",
     "text": [
      "                            OLS Regression Results                            \n",
      "==============================================================================\n",
      "Dep. Variable:       NDX Daily Return   R-squared:                       0.274\n",
      "Model:                            OLS   Adj. R-squared:                  0.271\n",
      "Method:                 Least Squares   F-statistic:                     88.71\n",
      "Date:                Sat, 23 Sep 2023   Prob (F-statistic):           4.46e-18\n",
      "Time:                        11:43:55   Log-Likelihood:                 636.41\n",
      "No. Observations:                 237   AIC:                            -1269.\n",
      "Df Residuals:                     235   BIC:                            -1262.\n",
      "Df Model:                           1                                         \n",
      "Covariance Type:            nonrobust                                         \n",
      "=====================================================================================\n",
      "                        coef    std err          t      P>|t|      [0.025      0.975]\n",
      "-------------------------------------------------------------------------------------\n",
      "const                 0.0002      0.001      0.154      0.877      -0.002       0.002\n",
      "HOOD Daily Return     0.1908      0.020      9.419      0.000       0.151       0.231\n",
      "==============================================================================\n",
      "Omnibus:                       22.084   Durbin-Watson:                   2.038\n",
      "Prob(Omnibus):                  0.000   Jarque-Bera (JB):               53.788\n",
      "Skew:                          -0.395   Prob(JB):                     2.09e-12\n",
      "Kurtosis:                       5.196   Cond. No.                         18.8\n",
      "==============================================================================\n",
      "\n",
      "Notes:\n",
      "[1] Standard Errors assume that the covariance matrix of the errors is correctly specified.\n"
     ]
    }
   ],
   "source": [
    "# Model summary\n",
    "print(lr.summary())"
   ]
  },
  {
   "cell_type": "markdown",
   "metadata": {
    "id": "l80tpwALCura"
   },
   "source": [
    "Model interpretation : Above model, that gives slope, β of 0.190815 and intercept, α of 0.000167. Model has a poor R -squared. The model expalins only 27.4% of variance dependent variable that's explained by an independent variable. Hence I need to better the model\n",
    "\n"
   ]
  },
  {
   "cell_type": "markdown",
   "metadata": {
    "id": "N0Jggyw3REYU"
   },
   "source": [
    "Model 2 : Modelling via log returns"
   ]
  },
  {
   "cell_type": "code",
   "execution_count": 18,
   "metadata": {
    "colab": {
     "base_uri": "https://localhost:8080/"
    },
    "id": "7n3eGKrxQAdL",
    "outputId": "a4ddfc75-8e02-473d-b3e6-d4eea51b8ae3"
   },
   "outputs": [
    {
     "data": {
      "text/plain": [
       "const          0.000194\n",
       "Log Returns    0.181438\n",
       "dtype: float64"
      ]
     },
     "execution_count": 18,
     "metadata": {},
     "output_type": "execute_result"
    }
   ],
   "source": [
    "# calculating log returns\n",
    "data['Log Returns'] = np.log(1+data['Close'].pct_change()).iloc[1:]\n",
    "data['Index Log Returns'] = np.log(1+data['NDX'].pct_change()).iloc[1:]\n",
    "\n",
    "\n",
    "# Preparing data\n",
    "X = data['Log Returns'].dropna()\n",
    "y = data['Index Log Returns'].dropna()\n",
    "\n",
    "\n",
    "# Train data\n",
    "X_train, X_test, y_train, y_test = train_test_split(X, y, train_size = 0.7, test_size = 0.3, random_state = 100)\n",
    "\n",
    "#Model building\n",
    "X_train_sm = sm.add_constant(X_train)\n",
    "\n",
    "# Fitting the regression line using Oridary Least Square method\n",
    "lr = sm.OLS(y_train, X_train_sm).fit()\n",
    "\n",
    "# Print the regression params\n",
    "lr.params\n",
    "\n",
    "\n"
   ]
  },
  {
   "cell_type": "code",
   "execution_count": 19,
   "metadata": {
    "colab": {
     "base_uri": "https://localhost:8080/"
    },
    "id": "GNOho7FYQPKC",
    "outputId": "5d81ca3b-44bf-4234-a916-360a1ea3f145"
   },
   "outputs": [
    {
     "name": "stdout",
     "output_type": "stream",
     "text": [
      "                            OLS Regression Results                            \n",
      "==============================================================================\n",
      "Dep. Variable:      Index Log Returns   R-squared:                       0.254\n",
      "Model:                            OLS   Adj. R-squared:                  0.251\n",
      "Method:                 Least Squares   F-statistic:                     80.09\n",
      "Date:                Sat, 23 Sep 2023   Prob (F-statistic):           1.10e-16\n",
      "Time:                        11:55:15   Log-Likelihood:                 632.57\n",
      "No. Observations:                 237   AIC:                            -1261.\n",
      "Df Residuals:                     235   BIC:                            -1254.\n",
      "Df Model:                           1                                         \n",
      "Covariance Type:            nonrobust                                         \n",
      "===============================================================================\n",
      "                  coef    std err          t      P>|t|      [0.025      0.975]\n",
      "-------------------------------------------------------------------------------\n",
      "const           0.0002      0.001      0.176      0.861      -0.002       0.002\n",
      "Log Returns     0.1814      0.020      8.949      0.000       0.141       0.221\n",
      "==============================================================================\n",
      "Omnibus:                       23.971   Durbin-Watson:                   2.037\n",
      "Prob(Omnibus):                  0.000   Jarque-Bera (JB):               67.791\n",
      "Skew:                          -0.379   Prob(JB):                     1.90e-15\n",
      "Kurtosis:                       5.508   Cond. No.                         18.5\n",
      "==============================================================================\n",
      "\n",
      "Notes:\n",
      "[1] Standard Errors assume that the covariance matrix of the errors is correctly specified.\n"
     ]
    }
   ],
   "source": [
    "print(lr.summary())"
   ]
  },
  {
   "cell_type": "markdown",
   "metadata": {
    "id": "JNz04PRPR3L9"
   },
   "source": [
    "Model interpretation : Model has a poor R -squared. The model expalins only 25.4% of variance dependent variable that's explained by an independent variable. Hence I need to better the model\n"
   ]
  },
  {
   "cell_type": "code",
   "execution_count": 20,
   "metadata": {
    "colab": {
     "base_uri": "https://localhost:8080/",
     "height": 564
    },
    "id": "aaHnfRyqFPEl",
    "outputId": "7f14febc-3a43-4f3f-acba-a58568d3a06a"
   },
   "outputs": [
    {
     "data": {
      "image/png": "[encoded data removed]",
      "text/plain": [
       "<Figure size 800x600 with 1 Axes>"
      ]
     },
     "metadata": {},
     "output_type": "display_data"
    }
   ],
   "source": [
    "%matplotlib inline\n",
    "fig = plt.figure(figsize=(8, 6))\n",
    "ax1 = fig.add_subplot(1, 1, 1)\n",
    "X.hist(bins=50, ax=ax1)\n",
    "ax1.set_xlabel('Return')\n",
    "ax1.set_ylabel('Frequency')\n",
    "ax1.set_title('Return distribution')\n",
    "plt.show()\n"
   ]
  },
  {
   "cell_type": "markdown",
   "metadata": {
    "id": "NjR9-LNSGBLM"
   },
   "source": [
    "Observation : Above plot looks like bell shaped curve. I would try modelling using Normal distribution"
   ]
  },
  {
   "cell_type": "markdown",
   "metadata": {
    "id": "fqqVDvA65uxI"
   },
   "source": [
    "Model 3: Normal distribution with daily regular returns"
   ]
  },
  {
   "cell_type": "code",
   "execution_count": 21,
   "metadata": {
    "colab": {
     "base_uri": "https://localhost:8080/"
    },
    "id": "WEbAr3J4KNO8",
    "outputId": "4e2a41b0-3132-4aaf-ba68-489fd30186ad"
   },
   "outputs": [
    {
     "name": "stdout",
     "output_type": "stream",
     "text": [
      "Mean:  -0.0026\n",
      "Standard Deviation:  0.0599\n",
      "Skewness:  2.0443\n",
      "Kurtosis:  17.175\n"
     ]
    }
   ],
   "source": [
    "# Calculate moments of normal distrinution\n",
    "mean = np.mean(data['HOOD Daily Return'])\n",
    "std_dev = np.std(data['HOOD Daily Return'])\n",
    "skewness = pd.Series(data['HOOD Daily Return']).skew()\n",
    "kurtosis  = pd.Series(data['HOOD Daily Return']).kurt()\n",
    "print('Mean: ', round(mean, 4))\n",
    "print('Standard Deviation: ', round(std_dev, 4))\n",
    "print('Skewness: ', round(skewness, 4))\n",
    "print('Kurtosis: ', round(kurtosis, 4))\n",
    "\n",
    "\n"
   ]
  },
  {
   "cell_type": "markdown",
   "metadata": {
    "id": "MwtELH5DMYSF"
   },
   "source": [
    "Interpretation of moments of normal distribution params :\n",
    "Mean = -0.0026, indicates, on a average HOOD returned a negative return of 2.6%\n",
    "Standard Deviation (SD) = 0.0599 shows about 6% variability of daily returns\n",
    "Skew > 2 shows long right tail, there are more positive returns than negative ones\n",
    "For a standard normal distribution, mean =0, SD =1, skew =0 and kurtosis =3"
   ]
  },
  {
   "cell_type": "code",
   "execution_count": 22,
   "metadata": {
    "colab": {
     "base_uri": "https://localhost:8080/",
     "height": 564
    },
    "id": "ITk8ovUNVFkI",
    "outputId": "7e8f663b-97ea-4061-d8a4-58a1acbefebb"
   },
   "outputs": [
    {
     "data": {
      "image/png": "[encoded data removed]",
      "text/plain": [
       "<Figure size 800x600 with 1 Axes>"
      ]
     },
     "metadata": {},
     "output_type": "display_data"
    }
   ],
   "source": [
    "fig = plt.figure(figsize=(8, 6))\n",
    "ax = fig.add_subplot(1, 1, 1)\n",
    "stats.probplot(data['HOOD Daily Return'], dist='norm', plot=ax)\n",
    "plt.show()\n",
    "\n"
   ]
  },
  {
   "cell_type": "code",
   "execution_count": 23,
   "metadata": {
    "colab": {
     "base_uri": "https://localhost:8080/",
     "height": 564
    },
    "id": "1tKuPmTyNrUf",
    "outputId": "91d9bcfb-5d6a-4b7b-e197-a6e77353856c"
   },
   "outputs": [
    {
     "data": {
      "image/png": "[encoded data removed]",
      "text/plain": [
       "<Figure size 800x600 with 1 Axes>"
      ]
     },
     "metadata": {},
     "output_type": "display_data"
    }
   ],
   "source": [
    "# a random normal distribution with the same mean and standard deviation for HOOD Inc.\n",
    "normal = np.random.normal(\n",
    "    loc   = -0.0026, # mean\n",
    "    scale = 0.0599, # std\n",
    "    size  = 341, # num\n",
    ")\n",
    "fig = plt.figure(figsize=(8,6))\n",
    "ax5 = fig.add_subplot(1, 1, 1)\n",
    "ax5.set_xlabel('Return')\n",
    "ax5.set_ylabel('Frequency')\n",
    "ax5.set_title('Return distribution with a random normal distribution data')\n",
    "plt.hist(normal, bins=50)\n",
    "plt.show()\n"
   ]
  },
  {
   "cell_type": "code",
   "execution_count": 24,
   "metadata": {
    "colab": {
     "base_uri": "https://localhost:8080/"
    },
    "id": "lbCe42I-Kjmi",
    "outputId": "d4bcf612-ffdc-4cf7-e0c1-9864440b008e"
   },
   "outputs": [
    {
     "data": {
      "text/plain": [
       "0.41669702887821625"
      ]
     },
     "execution_count": 24,
     "metadata": {},
     "output_type": "execute_result"
    }
   ],
   "source": [
    "# Probability of making 1% profit\n",
    "from scipy.stats import norm\n",
    "1-stats.norm.cdf(0.01,-0.0026,0.0599)\n"
   ]
  },
  {
   "cell_type": "markdown",
   "metadata": {
    "id": "P85Shu_qC6ib"
   },
   "source": [
    "Conclusion : We observe as per this model, there is only 41.6% chance of making 1% profit in a day"
   ]
  },
  {
   "cell_type": "code",
   "execution_count": 25,
   "metadata": {
    "colab": {
     "base_uri": "https://localhost:8080/"
    },
    "id": "_TB0Wh-2LHvq",
    "outputId": "f1841e25-c0a9-48d0-ff70-83a15400692f"
   },
   "outputs": [
    {
     "data": {
      "text/plain": [
       "0.5491599452364652"
      ]
     },
     "execution_count": 25,
     "metadata": {},
     "output_type": "execute_result"
    }
   ],
   "source": [
    "# Probability of making 1% loss\n",
    "from scipy.stats import norm\n",
    "1-stats.norm.cdf(-0.01,-0.0026,0.0599)"
   ]
  },
  {
   "cell_type": "code",
   "execution_count": 26,
   "metadata": {
    "colab": {
     "base_uri": "https://localhost:8080/"
    },
    "id": "muTRnXQ3OZTv",
    "outputId": "65049d3f-4edf-4ef4-b08c-1c1e7968712b"
   },
   "outputs": [
    {
     "name": "stdout",
     "output_type": "stream",
     "text": [
      "0.44493037662519785 7.18551295048547e-62\n",
      "not gaussian\n"
     ]
    }
   ],
   "source": [
    "#Normality of a distribution is checked by kolmogorov smirnov test. It calculates the distance between the empirical(real) and theoretical distributions(ideal) and calculates p value of k static\n",
    "returns = data['HOOD Daily Return'].dropna()\n",
    "ks_stat , p_value = stats.kstest(returns , 'norm')\n",
    "print(ks_stat,p_value)\n",
    "\n",
    "if p_value > 0.05 :\n",
    "    print(\"Gaussian\")\n",
    "else :\n",
    "    print(\"not gaussian\")"
   ]
  },
  {
   "cell_type": "markdown",
   "metadata": {
    "id": "-9XROv2M7pqv"
   },
   "source": [
    "Model 4 : Check if the data fits as a log normal distribution"
   ]
  },
  {
   "cell_type": "code",
   "execution_count": 28,
   "metadata": {
    "colab": {
     "base_uri": "https://localhost:8080/"
    },
    "id": "NxVJ90SKNHpS",
    "outputId": "aa9baa0c-a081-4f9b-c29a-b35de296e957"
   },
   "outputs": [
    {
     "name": "stdout",
     "output_type": "stream",
     "text": [
      "0.44207072532200953 4.831232704217796e-61\n",
      "not gaussian\n"
     ]
    }
   ],
   "source": [
    "#Normality of a distribution is checked by kolmogorov smirnov test. It calculates the distance between the empirical(real) and theoretical distributions(ideal) and calculates p value of k static\n",
    "data =data.Close\n",
    "log_returns = np.log(1+data.pct_change()).iloc[1:]\n",
    "ks_stat , p_value = stats.kstest(log_returns , 'norm')\n",
    "print(ks_stat,p_value)\n",
    "\n",
    "if p_value > 0.05 :\n",
    "    print(\"Gaussian\")\n",
    "else :\n",
    "    print(\"not gaussian\")\n"
   ]
  },
  {
   "cell_type": "markdown",
   "metadata": {
    "id": "nS7et0C0NglT"
   },
   "source": [
    "Conclusion : Data doesnot seem to fit a log ormal distribution from the above results"
   ]
  },
  {
   "cell_type": "markdown",
   "metadata": {
    "id": "m9ffJ3R-9O7w"
   },
   "source": [
    "Model 5 : Monte Carlo Simulation, (MCS) model, daily returns = e^r             \n",
    "                              r = drift + stdev*z\n"
   ]
  },
  {
   "cell_type": "code",
   "execution_count": 32,
   "metadata": {
    "id": "xcKylI0ylqIp"
   },
   "outputs": [],
   "source": [
    "# Calculating MCS params\n",
    "u = log_returns.mean()\n",
    "var = log_returns.var()\n",
    "drift = u - (0.5*var)\n",
    "stddev = log_returns.std()\n"
   ]
  },
  {
   "cell_type": "code",
   "execution_count": 36,
   "metadata": {
    "colab": {
     "base_uri": "https://localhost:8080/"
    },
    "id": "vcf5Azlbkjmi",
    "outputId": "72024b4c-bf01-4914-9215-c4513a4249f2"
   },
   "outputs": [
    {
     "data": {
      "text/plain": [
       "array([[0.8823654 , 1.00902027, 1.04214094, ..., 1.02168646, 0.9837629 ,\n",
       "        0.95261559],\n",
       "       [0.942459  , 1.04860855, 1.00034732, ..., 0.9609788 , 0.95818939,\n",
       "        1.11899582],\n",
       "       [0.93025522, 0.94199993, 0.9349747 , ..., 0.9571145 , 0.89867176,\n",
       "        0.94066653],\n",
       "       ...,\n",
       "       [0.96018055, 0.88611962, 0.94467551, ..., 0.99527916, 0.92708858,\n",
       "        1.00845031],\n",
       "       [0.98723493, 1.01750829, 0.94550223, ..., 0.95418894, 0.99830252,\n",
       "        0.9349757 ],\n",
       "       [0.99255991, 0.90800045, 0.89451977, ..., 1.08135872, 1.03172484,\n",
       "        1.04423316]])"
      ]
     },
     "execution_count": 36,
     "metadata": {},
     "output_type": "execute_result"
    }
   ],
   "source": [
    "# Building the model at 95% probabaility\n",
    "x = np.random.rand(10,2)\n",
    "Z = norm.ppf(np.random.rand(10,2))\n",
    "t_intervals = 1000\n",
    "iterations = 20\n",
    "\n",
    "daily_returns = np.exp(np.array(drift) + np.array(stddev) * norm.ppf(np.random.rand(t_intervals,iterations)))\n",
    "daily_returns"
   ]
  },
  {
   "cell_type": "code",
   "execution_count": 35,
   "metadata": {
    "colab": {
     "base_uri": "https://localhost:8080/"
    },
    "id": "CdE_Tve2nb11",
    "outputId": "a6caea8c-75ba-4f67-be1e-928ae8fd4be1"
   },
   "outputs": [
    {
     "data": {
      "text/plain": [
       "8.140000343322754"
      ]
     },
     "execution_count": 35,
     "metadata": {},
     "output_type": "execute_result"
    }
   ],
   "source": [
    "# Modelling stock price on S1 day from S0 prices\n",
    "S0 = data.iloc[-1]\n",
    "S0"
   ]
  },
  {
   "cell_type": "code",
   "execution_count": 37,
   "metadata": {
    "colab": {
     "base_uri": "https://localhost:8080/"
    },
    "id": "Ovmg8MKvorz3",
    "outputId": "2f6e3189-731a-431a-d1d0-20ed5427ed7a"
   },
   "outputs": [
    {
     "data": {
      "text/plain": [
       "array([[8.14000034, 8.14000034, 8.14000034, ..., 8.14000034, 8.14000034,\n",
       "        8.14000034],\n",
       "       [0.        , 0.        , 0.        , ..., 0.        , 0.        ,\n",
       "        0.        ],\n",
       "       [0.        , 0.        , 0.        , ..., 0.        , 0.        ,\n",
       "        0.        ],\n",
       "       ...,\n",
       "       [0.        , 0.        , 0.        , ..., 0.        , 0.        ,\n",
       "        0.        ],\n",
       "       [0.        , 0.        , 0.        , ..., 0.        , 0.        ,\n",
       "        0.        ],\n",
       "       [0.        , 0.        , 0.        , ..., 0.        , 0.        ,\n",
       "        0.        ]])"
      ]
     },
     "execution_count": 37,
     "metadata": {},
     "output_type": "execute_result"
    }
   ],
   "source": [
    "price_list = np.zeros_like(daily_returns)\n",
    "price_list[0] = S0\n",
    "price_list\n"
   ]
  },
  {
   "cell_type": "code",
   "execution_count": 38,
   "metadata": {
    "colab": {
     "base_uri": "https://localhost:8080/"
    },
    "id": "CV0Ux_ojo8qN",
    "outputId": "4ab2048d-dddf-4875-b07c-21d9e79f6836"
   },
   "outputs": [
    {
     "data": {
      "text/plain": [
       "array([[8.14000034e+00, 8.14000034e+00, 8.14000034e+00, ...,\n",
       "        8.14000034e+00, 8.14000034e+00, 8.14000034e+00],\n",
       "       [7.67161658e+00, 8.53567393e+00, 8.14282752e+00, ...,\n",
       "        7.82236777e+00, 7.79966195e+00, 9.10862638e+00],\n",
       "       [7.13656138e+00, 8.04060428e+00, 7.61333772e+00, ...,\n",
       "        7.48690163e+00, 7.00933595e+00, 8.56817992e+00],\n",
       "       ...,\n",
       "       [5.60575854e-03, 2.99483696e-02, 4.79317119e-02, ...,\n",
       "        5.42887386e-02, 5.51213680e-03, 1.76464000e-01],\n",
       "       [5.53420065e-03, 3.04727143e-02, 4.53195403e-02, ...,\n",
       "        5.18017141e-02, 5.50278008e-03, 1.64989552e-01],\n",
       "       [5.49302570e-03, 2.76692382e-02, 4.05392250e-02, ...,\n",
       "        5.60162351e-02, 5.67735488e-03, 1.72287561e-01]])"
      ]
     },
     "execution_count": 38,
     "metadata": {},
     "output_type": "execute_result"
    }
   ],
   "source": [
    "# Running the simulation in the loop\n",
    "for t in range(1,t_intervals):\n",
    "    price_list[t] = price_list[t-1]*daily_returns[t]\n",
    "price_list"
   ]
  },
  {
   "cell_type": "code",
   "execution_count": 39,
   "metadata": {
    "colab": {
     "base_uri": "https://localhost:8080/",
     "height": 869
    },
    "id": "DDZOTHuMpSnv",
    "outputId": "d234b7c4-2593-47dd-ba68-ce9772dba207"
   },
   "outputs": [
    {
     "data": {
      "text/plain": [
       "[<matplotlib.lines.Line2D at 0x7f75c4d913c0>,\n",
       " <matplotlib.lines.Line2D at 0x7f75c4d91420>,\n",
       " <matplotlib.lines.Line2D at 0x7f75c4d91450>,\n",
       " <matplotlib.lines.Line2D at 0x7f75c4d91540>,\n",
       " <matplotlib.lines.Line2D at 0x7f75c4d91630>,\n",
       " <matplotlib.lines.Line2D at 0x7f75c4d91720>,\n",
       " <matplotlib.lines.Line2D at 0x7f75c4d91810>,\n",
       " <matplotlib.lines.Line2D at 0x7f75c4d91900>,\n",
       " <matplotlib.lines.Line2D at 0x7f75c4d919f0>,\n",
       " <matplotlib.lines.Line2D at 0x7f75c4d91ae0>,\n",
       " <matplotlib.lines.Line2D at 0x7f75c4d91bd0>,\n",
       " <matplotlib.lines.Line2D at 0x7f75c4d913f0>,\n",
       " <matplotlib.lines.Line2D at 0x7f75c4d91cc0>,\n",
       " <matplotlib.lines.Line2D at 0x7f75c4d91e70>,\n",
       " <matplotlib.lines.Line2D at 0x7f75c4d91f60>,\n",
       " <matplotlib.lines.Line2D at 0x7f75c4d92050>,\n",
       " <matplotlib.lines.Line2D at 0x7f75c4d92140>,\n",
       " <matplotlib.lines.Line2D at 0x7f75c4d92230>,\n",
       " <matplotlib.lines.Line2D at 0x7f75c4d92320>,\n",
       " <matplotlib.lines.Line2D at 0x7f75c4d92410>]"
      ]
     },
     "execution_count": 39,
     "metadata": {},
     "output_type": "execute_result"
    },
    {
     "data": {
      "image/png": "[encoded data removed]",
      "text/plain": [
       "<Figure size 800x600 with 1 Axes>"
      ]
     },
     "metadata": {},
     "output_type": "display_data"
    }
   ],
   "source": [
    "#Plotting the results\n",
    "plt.figure(figsize=(8,6))\n",
    "plt.plot(price_list)\n"
   ]
  },
  {
   "cell_type": "code",
   "execution_count": null,
   "metadata": {
    "colab": {
     "base_uri": "https://localhost:8080/"
    },
    "id": "NhPoiaFgqYK3",
    "outputId": "5cfe5fb3-0eca-413f-e2c0-cbec7f4043ab"
   },
   "outputs": [
    {
     "name": "stdout",
     "output_type": "stream",
     "text": [
      "Expected Price:  1.65\n",
      "Quantile (5%):  0\n",
      "Quantile (95%):  7\n"
     ]
    }
   ],
   "source": [
    "# Calculating Expected price, 5%and 95% quantiles\n",
    "print('Expected Price: ', round(np.mean(price_list),2))\n",
    "print('Quantile (5%): ', round(np.percentile(price_list,5)))\n",
    "print('Quantile (95%): ', round(np.percentile(price_list,95)))"
   ]
  },
  {
   "cell_type": "markdown",
   "metadata": {
    "id": "a71eRgKkCZwn"
   },
   "source": [
    "Conclusion 1 : From the above results we can see that after 1000 days ( about 4 years from listing) stock would close $1.65.\n"
   ]
  },
  {
   "cell_type": "markdown",
   "metadata": {
    "id": "7H13NVtTrx3N"
   },
   "source": [
    "Conclusion 2 : From the above results after 1000 days( in about 4 years after listing) stock has 5 % probability of trading above $7\n"
   ]
  },
  {
   "cell_type": "markdown",
   "metadata": {
    "id": "gzl5Asj7DF1t"
   },
   "source": [
    "Conclusion 3 : From the above results after 1000 days( in about 4 years after listing) stock has 5 % probability of trading below $0"
   ]
  }
 ],
 "metadata": {
  "colab": {
   "provenance": []
  },
  "kernelspec": {
   "display_name": "Python 3 (ipykernel)",
   "language": "python",
   "name": "python3"
  },
  "language_info": {
   "codemirror_mode": {
    "name": "ipython",
    "version": 3
   },
   "file_extension": ".py",
   "mimetype": "text/x-python",
   "name": "python",
   "nbconvert_exporter": "python",
   "pygments_lexer": "ipython3",
   "version": "3.9.7"
  }
 },
 "nbformat": 4,
 "nbformat_minor": 1
}
